{
 "cells": [
  {
   "cell_type": "code",
   "execution_count": 26,
   "id": "earlier-coaching",
   "metadata": {},
   "outputs": [],
   "source": [
    "library(plyr)\n",
    "library(dplyr)\n",
    "library(Matrix)\n",
    "library(ggplot2)\n",
    "library(tidyverse)\n",
    "library(reshape2)\n",
    "library(stringr)\n",
    "library(ggsci)\n",
    "library(cowplot)\n",
    "library(RColorBrewer)\n",
    "library(colorspace)\n",
    "library(ggthemes)\n",
    "library(scales)\n",
    "library(ggrepel)\n",
    "library(tidyr)\n",
    "library(wesanderson)\n",
    "library(ggbreak)\n",
    "library(dutchmasters)"
   ]
  },
  {
   "cell_type": "code",
   "execution_count": 27,
   "id": "collected-benefit",
   "metadata": {},
   "outputs": [],
   "source": [
    "setwd('/home/jovyan/data/GCA/')\n",
    "cd248<-read.csv('CD248_scoring.csv')\n",
    "cd248<-melt(cd248, id = 'condition')\n",
    "cd248<-cd248 %>% filter(value != 'NA')"
   ]
  },
  {
   "cell_type": "code",
   "execution_count": 28,
   "id": "brilliant-guyana",
   "metadata": {},
   "outputs": [
    {
     "data": {
      "text/html": [
       "<table class=\"dataframe\">\n",
       "<caption>A data.frame: 6 × 3</caption>\n",
       "<thead>\n",
       "\t<tr><th></th><th scope=col>condition</th><th scope=col>variable</th><th scope=col>value</th></tr>\n",
       "\t<tr><th></th><th scope=col>&lt;chr&gt;</th><th scope=col>&lt;fct&gt;</th><th scope=col>&lt;dbl&gt;</th></tr>\n",
       "</thead>\n",
       "<tbody>\n",
       "\t<tr><th scope=row>1</th><td>GCA    </td><td>adventitia</td><td>40.64444</td></tr>\n",
       "\t<tr><th scope=row>2</th><td>GCA    </td><td>adventitia</td><td>43.60000</td></tr>\n",
       "\t<tr><th scope=row>3</th><td>GCA    </td><td>adventitia</td><td>12.45000</td></tr>\n",
       "\t<tr><th scope=row>4</th><td>GCA    </td><td>adventitia</td><td>22.90000</td></tr>\n",
       "\t<tr><th scope=row>5</th><td>control</td><td>adventitia</td><td>11.32857</td></tr>\n",
       "\t<tr><th scope=row>6</th><td>control</td><td>adventitia</td><td>11.20000</td></tr>\n",
       "</tbody>\n",
       "</table>\n"
      ],
      "text/latex": [
       "A data.frame: 6 × 3\n",
       "\\begin{tabular}{r|lll}\n",
       "  & condition & variable & value\\\\\n",
       "  & <chr> & <fct> & <dbl>\\\\\n",
       "\\hline\n",
       "\t1 & GCA     & adventitia & 40.64444\\\\\n",
       "\t2 & GCA     & adventitia & 43.60000\\\\\n",
       "\t3 & GCA     & adventitia & 12.45000\\\\\n",
       "\t4 & GCA     & adventitia & 22.90000\\\\\n",
       "\t5 & control & adventitia & 11.32857\\\\\n",
       "\t6 & control & adventitia & 11.20000\\\\\n",
       "\\end{tabular}\n"
      ],
      "text/markdown": [
       "\n",
       "A data.frame: 6 × 3\n",
       "\n",
       "| <!--/--> | condition &lt;chr&gt; | variable &lt;fct&gt; | value &lt;dbl&gt; |\n",
       "|---|---|---|---|\n",
       "| 1 | GCA     | adventitia | 40.64444 |\n",
       "| 2 | GCA     | adventitia | 43.60000 |\n",
       "| 3 | GCA     | adventitia | 12.45000 |\n",
       "| 4 | GCA     | adventitia | 22.90000 |\n",
       "| 5 | control | adventitia | 11.32857 |\n",
       "| 6 | control | adventitia | 11.20000 |\n",
       "\n"
      ],
      "text/plain": [
       "  condition variable   value   \n",
       "1 GCA       adventitia 40.64444\n",
       "2 GCA       adventitia 43.60000\n",
       "3 GCA       adventitia 12.45000\n",
       "4 GCA       adventitia 22.90000\n",
       "5 control   adventitia 11.32857\n",
       "6 control   adventitia 11.20000"
      ]
     },
     "metadata": {},
     "output_type": "display_data"
    }
   ],
   "source": [
    "head(cd248)"
   ]
  },
  {
   "cell_type": "code",
   "execution_count": 29,
   "id": "hawaiian-trigger",
   "metadata": {},
   "outputs": [
    {
     "name": "stderr",
     "output_type": "stream",
     "text": [
      "Saving 6.67 x 6.67 in image\n",
      "\n"
     ]
    },
    {
     "data": {
      "image/png": "[encoded data removed]",
      "text/plain": [
       "plot without title"
      ]
     },
     "metadata": {
      "image/png": {
       "height": 420,
       "width": 420
      }
     },
     "output_type": "display_data"
    }
   ],
   "source": [
    "ggplot(cd248, aes(x=condition, y=value))+\n",
    "geom_point(aes(fill = condition, color = condition), \n",
    "           size = 2, alpha = 0.7, \n",
    "           position = position_jitter(width=0.25, height=0)) +\n",
    "  facet_wrap(~ variable, scales = 'free', ncol = 1) +\n",
    "scale_color_manual(values = rev(c('#f44323', '#656665'))) + \n",
    "theme(aspect.ratio = 1) + \n",
    "theme(axis.text.x = element_text(angle = 90)) +\n",
    "theme(axis.title.x=element_blank(),\n",
    "       axis.text.x=element_blank(),\n",
    "        axis.ticks.x=element_blank(),\n",
    "          axis.text.y=element_blank(),\n",
    "      axis.title.y=element_blank()) +\n",
    "theme(legend.position=\"none\") +\n",
    "theme(strip.background = element_blank(), \n",
    "     strip.text.x = element_blank(),\n",
    "     panel.spacing.y = unit(3, \"lines\"), panel.spacing.x = unit(2, \"lines\"))+\n",
    "\n",
    "\n",
    "theme(panel.grid.major = element_blank(), panel.grid.minor = element_blank(),\n",
    "panel.background = element_blank(), axis.line = element_line(colour = \"black\"))\n",
    "\n",
    "setwd('/home/jovyan/data/GCA/figures')\n",
    "ggsave('cd248_scoring.png', dpi = 300)"
   ]
  },
  {
   "cell_type": "code",
   "execution_count": 29,
   "id": "reliable-compression",
   "metadata": {},
   "outputs": [
    {
     "data": {
      "text/plain": [
       "\n",
       "\tWelch Two Sample t-test\n",
       "\n",
       "data:  adventitia$value[adventitia$condition == \"GCA\"] and adventitia$value[adventitia$condition == \"control\"]\n",
       "t = 4.5782, df = 9.3494, p-value = 0.001206\n",
       "alternative hypothesis: true difference in means is not equal to 0\n",
       "95 percent confidence interval:\n",
       " 14.96624 43.87678\n",
       "sample estimates:\n",
       "mean of x mean of y \n",
       "39.059457  9.637946 \n"
      ]
     },
     "metadata": {},
     "output_type": "display_data"
    }
   ],
   "source": [
    "adventitia <- cd248 %>% filter(variable == 'adventitia')\n",
    "t.test(adventitia$value[adventitia$condition==\"GCA\"], adventitia$value[adventitia$condition==\"control\"])"
   ]
  },
  {
   "cell_type": "code",
   "execution_count": 30,
   "id": "irish-judge",
   "metadata": {},
   "outputs": [
    {
     "data": {
      "text/plain": [
       "\n",
       "\tWelch Two Sample t-test\n",
       "\n",
       "data:  media$value[media$condition == \"GCA\"] and media$value[media$condition == \"control\"]\n",
       "t = 2.9386, df = 8.7584, p-value = 0.01701\n",
       "alternative hypothesis: true difference in means is not equal to 0\n",
       "95 percent confidence interval:\n",
       " 1.063406 8.308036\n",
       "sample estimates:\n",
       "mean of x mean of y \n",
       "5.6235185 0.9377976 \n"
      ]
     },
     "metadata": {},
     "output_type": "display_data"
    }
   ],
   "source": [
    "media <- cd248 %>% filter(variable == 'media')\n",
    "t.test(media$value[media$condition==\"GCA\"], media$value[media$condition==\"control\"])"
   ]
  },
  {
   "cell_type": "code",
   "execution_count": 31,
   "id": "loving-facial",
   "metadata": {},
   "outputs": [
    {
     "data": {
      "text/plain": [
       "\n",
       "\tWelch Two Sample t-test\n",
       "\n",
       "data:  intima$value[intima$condition == \"GCA\"] and intima$value[intima$condition == \"control\"]\n",
       "t = 4.6355, df = 10.347, p-value = 0.0008483\n",
       "alternative hypothesis: true difference in means is not equal to 0\n",
       "95 percent confidence interval:\n",
       "  4.943576 14.015229\n",
       "sample estimates:\n",
       "mean of x mean of y \n",
       "11.061486  1.582083 \n"
      ]
     },
     "metadata": {},
     "output_type": "display_data"
    }
   ],
   "source": [
    "intima <- cd248 %>% filter(variable == 'intima')\n",
    "t.test(intima$value[intima$condition==\"GCA\"], intima$value[intima$condition==\"control\"])"
   ]
  },
  {
   "cell_type": "code",
   "execution_count": 22,
   "id": "industrial-manhattan",
   "metadata": {},
   "outputs": [
    {
     "data": {
      "image/png": "[encoded data removed]",
      "text/plain": [
       "plot without title"
      ]
     },
     "metadata": {
      "image/png": {
       "height": 420,
       "width": 420
      }
     },
     "output_type": "display_data"
    }
   ],
   "source": [
    "ggplot(cd248, aes(x=condition, y=value))+\n",
    "geom_point(aes(fill = condition, color = condition), \n",
    "           size = 2, alpha = 0.7, \n",
    "           position = position_jitter(width=0.25, height=0)) +\n",
    "  facet_wrap(~ variable, scales = 'free', ncol = 4) +\n",
    "scale_color_manual(values = c('#f44323', '#656665')) + \n",
    "theme(aspect.ratio = 1/1) + \n",
    "theme(axis.text.x = element_text(angle = 90)) \n",
    "#theme(axis.title.x=element_blank(),\n",
    "#      axis.text.x=element_blank(),\n",
    "#        axis.ticks.x=element_blank(),\n",
    "#           axis.text.y=element_blank(),\n",
    "#      axis.title.y=element_blank()) +\n",
    "#theme(legend.position=\"none\") \n",
    "#theme(strip.background = element_blank(), \n",
    "#     strip.text.x = element_blank(),\n",
    "#     panel.spacing.y = unit(3, \"lines\"), panel.spacing.x = unit(2, \"lines\"))+\n",
    "\n",
    "\n",
    "#theme(panel.grid.major = element_blank(), panel.grid.minor = element_blank(),\n",
    "#panel.background = element_blank(), axis.line = element_line(colour = \"black\"))"
   ]
  },
  {
   "cell_type": "markdown",
   "id": "sound-heaven",
   "metadata": {},
   "source": [
    "\n",
    "\n",
    "***Flow scoring***\n",
    "\n"
   ]
  },
  {
   "cell_type": "code",
   "execution_count": 32,
   "id": "guilty-flower",
   "metadata": {},
   "outputs": [],
   "source": [
    "df_1c = data.frame(diagnosis = c('no', 'no', 'no', 'no', 'gca', 'gca', 'gca'), value = c(87.6, 84.6, 82.6, 87.3, 34.5, 18.1, 21.8))\n",
    "df_141 = data.frame(diagnosis = c('no', 'no', 'no', 'no', 'gca', 'gca', 'gca'), value = c(6.1, 4.88, 7.62, 1.42, 6.42, 7.86, 6.71))"
   ]
  },
  {
   "cell_type": "code",
   "execution_count": 33,
   "id": "numerical-papua",
   "metadata": {},
   "outputs": [
    {
     "data": {
      "text/plain": [
       "\n",
       "\tWelch Two Sample t-test\n",
       "\n",
       "data:  c(87.6, 84.6, 82.6, 87.3) and c(34.5, 18.1, 21.8)\n",
       "t = 11.893, df = 2.2296, p-value = 0.004628\n",
       "alternative hypothesis: true difference in means is not equal to 0\n",
       "95 percent confidence interval:\n",
       " 40.78855 80.66145\n",
       "sample estimates:\n",
       "mean of x mean of y \n",
       "   85.525    24.800 \n"
      ]
     },
     "metadata": {},
     "output_type": "display_data"
    }
   ],
   "source": [
    "t.test(c(87.6, 84.6, 82.6, 87.3), c(34.5, 18.1, 21.8))"
   ]
  },
  {
   "cell_type": "code",
   "execution_count": 34,
   "id": "religious-winner",
   "metadata": {},
   "outputs": [
    {
     "data": {
      "text/plain": [
       "\n",
       "\tWelch Two Sample t-test\n",
       "\n",
       "data:  c(6.1, 4.88, 7.62, 1.42) and c(6.42, 7.86, 6.71)\n",
       "t = -1.4316, df = 3.6357, p-value = 0.2323\n",
       "alternative hypothesis: true difference in means is not equal to 0\n",
       "95 percent confidence interval:\n",
       " -6.011797  2.028464\n",
       "sample estimates:\n",
       "mean of x mean of y \n",
       " 5.005000  6.996667 \n"
      ]
     },
     "metadata": {},
     "output_type": "display_data"
    }
   ],
   "source": [
    "t.test(c(6.1, 4.88, 7.62, 1.42), c(6.42, 7.86, 6.71))"
   ]
  },
  {
   "cell_type": "code",
   "execution_count": 35,
   "id": "given-lecture",
   "metadata": {},
   "outputs": [],
   "source": [
    "df_1c$diagnosis<-factor(df_1c$diagnosis, levels = rev(c('no', 'gca')))\n",
    "df_141$diagnosis<-factor(df_141$diagnosis, levels = rev(c('no', 'gca')))"
   ]
  },
  {
   "cell_type": "code",
   "execution_count": 42,
   "id": "palestinian-assistant",
   "metadata": {},
   "outputs": [
    {
     "name": "stderr",
     "output_type": "stream",
     "text": [
      "Saving 6.67 x 6.67 in image\n",
      "\n"
     ]
    },
    {
     "data": {
      "image/png": "[encoded data removed]",
      "text/plain": [
       "plot without title"
      ]
     },
     "metadata": {
      "image/png": {
       "height": 300,
       "width": 3300
      }
     },
     "output_type": "display_data"
    }
   ],
   "source": [
    "options(repr.plot.width=55, repr.plot.height=5)\n",
    "\n",
    "ggplot(df_1c, aes(x=diagnosis, y=value))+\n",
    "geom_point(aes(fill = diagnosis, color = diagnosis), \n",
    "           size = 5, alpha = 0.7, \n",
    "           position = position_jitter(width=0.25, height=0)) +\n",
    "scale_color_manual(values = c('#f44323', '#656665')) + coord_flip()+\n",
    "theme(aspect.ratio = 1/3) + \n",
    "theme(axis.text.x = element_text(angle = 90)) +\n",
    "theme(axis.title.x=element_blank(),\n",
    "#       axis.text.x=element_blank(),\n",
    "#        axis.ticks.x=element_blank(),\n",
    "          axis.text.y=element_blank(),\n",
    "      axis.title.y=element_blank()) +\n",
    "theme(legend.position=\"none\") +\n",
    "theme(strip.background = element_blank(), \n",
    "     strip.text.x = element_blank(),\n",
    "     panel.spacing.y = unit(3, \"lines\"), panel.spacing.x = unit(2, \"lines\"))+\n",
    "\n",
    "\n",
    "theme(panel.grid.major = element_blank(), panel.grid.minor = element_blank(),\n",
    "panel.background = element_blank(), axis.line = element_line(colour = \"black\"))\n",
    "\n",
    "setwd('/home/jovyan/data/GCA/figures')\n",
    "ggsave('flow_scoring_1c.png', dpi = 300)"
   ]
  },
  {
   "cell_type": "code",
   "execution_count": 44,
   "id": "underlying-blues",
   "metadata": {},
   "outputs": [
    {
     "name": "stderr",
     "output_type": "stream",
     "text": [
      "Saving 6.67 x 6.67 in image\n",
      "\n"
     ]
    },
    {
     "data": {
      "image/png": "[encoded data removed]",
      "text/plain": [
       "plot without title"
      ]
     },
     "metadata": {
      "image/png": {
       "height": 300,
       "width": 3300
      }
     },
     "output_type": "display_data"
    }
   ],
   "source": [
    "options(repr.plot.width=55, repr.plot.height=5)\n",
    "\n",
    "ggplot(df_141, aes(x=diagnosis, y=value))+\n",
    "geom_point(aes(fill = diagnosis, color = diagnosis), \n",
    "           size = 5, alpha = 0.7, \n",
    "           position = position_jitter(width=0.25, height=0)) +\n",
    "scale_color_manual(values = c('#f44323', '#656665')) + coord_flip()+\n",
    "theme(aspect.ratio = 1/3) + \n",
    "theme(axis.text.x = element_text(angle = 90)) +\n",
    "theme(axis.title.x=element_blank(),\n",
    "#       axis.text.x=element_blank(),\n",
    "#        axis.ticks.x=element_blank(),\n",
    "          axis.text.y=element_blank(),\n",
    "      axis.title.y=element_blank()) +\n",
    "theme(legend.position=\"none\") +\n",
    "theme(strip.background = element_blank(), \n",
    "     strip.text.x = element_blank(),\n",
    "     panel.spacing.y = unit(3, \"lines\"), panel.spacing.x = unit(2, \"lines\"))+\n",
    "\n",
    "\n",
    "theme(panel.grid.major = element_blank(), panel.grid.minor = element_blank(),\n",
    "panel.background = element_blank(), axis.line = element_line(colour = \"black\"))\n",
    "\n",
    "setwd('/home/jovyan/data/GCA/figures')\n",
    "ggsave('flow_scoring_141.png', dpi = 300)"
   ]
  },
  {
   "cell_type": "markdown",
   "id": "automotive-subsection",
   "metadata": {},
   "source": [
    "\n",
    "\n",
    "***Shared clones between donors***\n",
    "\n"
   ]
  },
  {
   "cell_type": "code",
   "execution_count": 150,
   "id": "owned-shark",
   "metadata": {},
   "outputs": [],
   "source": [
    "setwd('/home/jovyan/data/GCA/TCR_analysis')\n",
    "tcr<-read.csv('TCR_summary_data_v6.csv', row.names = 1)"
   ]
  },
  {
   "cell_type": "code",
   "execution_count": 151,
   "id": "residential-bracelet",
   "metadata": {},
   "outputs": [],
   "source": [
    "tcr$cell<-rownames(tcr)"
   ]
  },
  {
   "cell_type": "code",
   "execution_count": 152,
   "id": "oriental-funeral",
   "metadata": {},
   "outputs": [],
   "source": [
    "#clones shared between donors\n",
    "\n",
    "donor_shared <- tcr %>% group_by(clone_id) %>% summarise(unique_clones = n_distinct(patient_id)) %>% filter(unique_clones>1) %>% pull(clone_id)"
   ]
  },
  {
   "cell_type": "code",
   "execution_count": 153,
   "id": "owned-cement",
   "metadata": {},
   "outputs": [
    {
     "data": {
      "text/html": [
       "149"
      ],
      "text/latex": [
       "149"
      ],
      "text/markdown": [
       "149"
      ],
      "text/plain": [
       "[1] 149"
      ]
     },
     "metadata": {},
     "output_type": "display_data"
    }
   ],
   "source": [
    "length(donor_shared)"
   ]
  },
  {
   "cell_type": "code",
   "execution_count": 13,
   "id": "independent-clerk",
   "metadata": {},
   "outputs": [],
   "source": [
    "donor_shared_meta <- tcr %>% filter(clone_id %in% donor_shared)"
   ]
  },
  {
   "cell_type": "code",
   "execution_count": 14,
   "id": "dressed-might",
   "metadata": {},
   "outputs": [
    {
     "name": "stderr",
     "output_type": "stream",
     "text": [
      "`summarise()` has grouped output by 'patient_id', 'clone_id', 'tissue'. You can override using the `.groups` argument.\n",
      "\n"
     ]
    }
   ],
   "source": [
    "plot_data<-donor_shared_meta %>% select(patient_id, clone_id, tissue, diagnosis) %>% group_by(patient_id, clone_id, tissue, diagnosis) %>% summarise(count = n())"
   ]
  },
  {
   "cell_type": "code",
   "execution_count": 15,
   "id": "excellent-cheese",
   "metadata": {},
   "outputs": [],
   "source": [
    "#add consensus annotation to the plotting data\n",
    "\n",
    "anno_table<-as.data.frame.matrix(table(donor_shared_meta$clone_id, donor_shared_meta$anno))\n",
    "anno_table$V1<-NULL\n",
    "anno_table$consensus<-colnames(anno_table)[apply(anno_table,1,which.max)]\n",
    "anno_table$clone_id<-rownames(anno_table)\n",
    "temp<-anno_table %>% select(clone_id, consensus) %>% remove_rownames()\n",
    "\n",
    "plot_data<-merge(plot_data, temp, by = 'clone_id', how = 'left')"
   ]
  },
  {
   "cell_type": "code",
   "execution_count": 16,
   "id": "czech-annual",
   "metadata": {},
   "outputs": [],
   "source": [
    "plot_data$clone_id<-as.factor(plot_data$clone_id)"
   ]
  },
  {
   "cell_type": "code",
   "execution_count": 17,
   "id": "understood-stranger",
   "metadata": {},
   "outputs": [
    {
     "data": {
      "text/html": [
       "<style>\n",
       ".list-inline {list-style: none; margin:0; padding: 0}\n",
       ".list-inline>li {display: inline-block}\n",
       ".list-inline>li:not(:last-child)::after {content: \"\\00b7\"; padding: 0 .5ex}\n",
       "</style>\n",
       "<ol class=list-inline><li>'CD8_naive_blood'</li><li>'CD8_Eff_blood'</li><li>'CD8_tissue'</li><li>'CD4_1_tissue'</li><li>'CD4_cytotoxic_blood'</li><li>'MyoFB_tissue'</li><li>'CD4_naive_CM_blood'</li><li>'Treg_blood'</li><li>'CD4_EM_blood'</li><li>'Endothelium_1_tissue'</li></ol>\n"
      ],
      "text/latex": [
       "\\begin{enumerate*}\n",
       "\\item 'CD8\\_naive\\_blood'\n",
       "\\item 'CD8\\_Eff\\_blood'\n",
       "\\item 'CD8\\_tissue'\n",
       "\\item 'CD4\\_1\\_tissue'\n",
       "\\item 'CD4\\_cytotoxic\\_blood'\n",
       "\\item 'MyoFB\\_tissue'\n",
       "\\item 'CD4\\_naive\\_CM\\_blood'\n",
       "\\item 'Treg\\_blood'\n",
       "\\item 'CD4\\_EM\\_blood'\n",
       "\\item 'Endothelium\\_1\\_tissue'\n",
       "\\end{enumerate*}\n"
      ],
      "text/markdown": [
       "1. 'CD8_naive_blood'\n",
       "2. 'CD8_Eff_blood'\n",
       "3. 'CD8_tissue'\n",
       "4. 'CD4_1_tissue'\n",
       "5. 'CD4_cytotoxic_blood'\n",
       "6. 'MyoFB_tissue'\n",
       "7. 'CD4_naive_CM_blood'\n",
       "8. 'Treg_blood'\n",
       "9. 'CD4_EM_blood'\n",
       "10. 'Endothelium_1_tissue'\n",
       "\n",
       "\n"
      ],
      "text/plain": [
       " [1] \"CD8_naive_blood\"      \"CD8_Eff_blood\"        \"CD8_tissue\"          \n",
       " [4] \"CD4_1_tissue\"         \"CD4_cytotoxic_blood\"  \"MyoFB_tissue\"        \n",
       " [7] \"CD4_naive_CM_blood\"   \"Treg_blood\"           \"CD4_EM_blood\"        \n",
       "[10] \"Endothelium_1_tissue\""
      ]
     },
     "metadata": {},
     "output_type": "display_data"
    }
   ],
   "source": [
    "unique(plot_data$consensus)"
   ]
  },
  {
   "cell_type": "code",
   "execution_count": 18,
   "id": "romantic-burden",
   "metadata": {},
   "outputs": [],
   "source": [
    "plot_data<-plot_data %>% filter(!(consensus %in% c('Endothelium_1_tissue', 'MyoFB_tissue')))"
   ]
  },
  {
   "cell_type": "code",
   "execution_count": 19,
   "id": "knowing-consolidation",
   "metadata": {},
   "outputs": [],
   "source": [
    "plot_data$consensus<-factor(plot_data$consensus, levels = c('CD4_naive_CM_blood', 'CD4_EM_blood', 'CD4_cytotoxic_blood', 'Treg_blood',\n",
    "                                                             'CD8_naive_blood', 'CD8_Eff_blood',\n",
    "                                                             'CD4_1_tissue', 'CD8_tissue'))"
   ]
  },
  {
   "cell_type": "code",
   "execution_count": 20,
   "id": "verbal-rough",
   "metadata": {},
   "outputs": [],
   "source": [
    "plot_data <- plot_data %>% group_by(clone_id) %>% mutate(total_in_clone = sum(count))"
   ]
  },
  {
   "cell_type": "code",
   "execution_count": 21,
   "id": "suffering-chosen",
   "metadata": {},
   "outputs": [],
   "source": [
    "plot_data<-plot_data %>% arrange(consensus, total_in_clone)\n",
    "plot_data$clone_id<-factor(plot_data$clone_id, levels = unique(plot_data$clone_id))"
   ]
  },
  {
   "cell_type": "code",
   "execution_count": 27,
   "id": "collected-cuisine",
   "metadata": {},
   "outputs": [
    {
     "data": {
      "text/plain": [
       "\n",
       " 1  2 \n",
       "67 64 "
      ]
     },
     "metadata": {},
     "output_type": "display_data"
    }
   ],
   "source": [
    "temp<-plot_data %>% filter(tissue == 'tissue') %>% group_by(clone_id) %>% summarise(n_distinct(diagnosis))\n",
    "table(temp$`n_distinct(diagnosis)`)"
   ]
  },
  {
   "cell_type": "code",
   "execution_count": 7,
   "id": "southeast-spoke",
   "metadata": {},
   "outputs": [
    {
     "ename": "ERROR",
     "evalue": "Error in ggplot(plot_data, aes(x = clone_id, y = count, fill = diagnosis)): object 'plot_data' not found\n",
     "output_type": "error",
     "traceback": [
      "Error in ggplot(plot_data, aes(x = clone_id, y = count, fill = diagnosis)): object 'plot_data' not found\nTraceback:\n",
      "1. ggplot(plot_data, aes(x = clone_id, y = count, fill = diagnosis))"
     ]
    }
   ],
   "source": [
    "options(repr.plot.width=25, repr.plot.height=15)\n",
    "ggplot(plot_data, aes(x=clone_id, y=count, fill = diagnosis)) +       # Note that id is a factor. If x is numeric, there is some space between the first bar\n",
    "\n",
    "  geom_bar(stat=\"identity\") +\n",
    "\n",
    "  ylim(-20,250) +\n",
    "  theme_minimal() +\n",
    "  theme(\n",
    "    axis.text = element_blank(),\n",
    "    axis.title = element_blank(),\n",
    "    panel.grid.major.x = element_blank(),\n",
    "    panel.grid = element_blank(),\n",
    "#   plot.margin = unit(rep(-1,4), \"cm\"),\n",
    "    legend.position = 'none',\n",
    "    plot.margin=unit(c(1,1,1.5,1.2),\"cm\")) + \n",
    "geom_segment(data=plot_data, aes(x = 0, xend = length(unique(clone_id)), y = 50, yend = 50), colour = \"grey\", alpha=1, size=0.3 , inherit.aes =TRUE ) +\n",
    "geom_segment(data=plot_data, aes(x = 0, xend = length(unique(clone_id)), y = 100, yend = 100), colour = \"grey\", alpha=1, size=0.3 , inherit.aes =TRUE ) +\n",
    "geom_segment(data=plot_data, aes(x = 0, xend = length(unique(clone_id)), y = 150, yend = 150), colour = \"grey\", alpha=1, size=0.3 , inherit.aes =TRUE ) +\n",
    "geom_segment(data=plot_data, aes(x = 0, xend = length(unique(clone_id)), y = 200, yend = 200), colour = \"grey\", alpha=1, size=0.3 , inherit.aes =TRUE ) +\n",
    "geom_bar(stat=\"identity\") +\n",
    "scale_fill_manual(values = c('#50cbd8', '#dd5f5f'))\n",
    "#scale_y_break(c(150, 240))+\n",
    "#coord_polar(start = 0)\n",
    "#scale_y_log10()+ \n",
    "#theme(axis.text.x = element_text(angle = 90, vjust = 0.5, hjust=1, size =10))\n",
    "                                      \n",
    "setwd('/home/jovyan/data/GCA/figures')\n",
    "ggsave('clones_between_donors_v6_diagnosis.png', dpi = 300, width = 49)"
   ]
  },
  {
   "cell_type": "code",
   "execution_count": null,
   "id": "shaped-nudist",
   "metadata": {},
   "outputs": [],
   "source": []
  }
 ],
 "metadata": {
  "kernelspec": {
   "display_name": "GCA_R",
   "language": "R",
   "name": "gca_r"
  },
  "language_info": {
   "codemirror_mode": "r",
   "file_extension": ".r",
   "mimetype": "text/x-r-source",
   "name": "R",
   "pygments_lexer": "r",
   "version": "4.0.4"
  }
 },
 "nbformat": 4,
 "nbformat_minor": 5
}
