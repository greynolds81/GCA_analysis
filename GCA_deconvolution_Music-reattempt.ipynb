{
 "cells": [
  {
   "cell_type": "code",
   "execution_count": 78,
   "id": "2d163ff2",
   "metadata": {},
   "outputs": [],
   "source": [
    "library(MuSiC)\n",
    "library(Biobase)\n",
    "library(Matrix)\n",
    "library(Seurat)\n",
    "library(xbioc)\n",
    "library(dplyr)\n",
    "library(reshape2)\n",
    "library(wesanderson)\n",
    "library(BBmisc)\n",
    "library(tidyr)"
   ]
  },
  {
   "cell_type": "code",
   "execution_count": 79,
   "id": "100ea0c2",
   "metadata": {},
   "outputs": [],
   "source": [
    "#Function for grouping variables on one line\n",
    "\n",
    "# Generic form\n",
    "'%=%' = function(l, r, ...) UseMethod('%=%')\n",
    "\n",
    "# Binary Operator\n",
    "'%=%.lbunch' = function(l, r, ...) {\n",
    "  Envir = as.environment(-1)\n",
    "\n",
    "  if (length(r) > length(l))\n",
    "    warning(\"RHS has more args than LHS. Only first\", length(l), \"used.\")\n",
    "\n",
    "  if (length(l) > length(r))  {\n",
    "    warning(\"LHS has more args than RHS. RHS will be repeated.\")\n",
    "    r <- extendToMatch(r, l)\n",
    "  }\n",
    "\n",
    "  for (II in 1:length(l)) {\n",
    "    do.call('<-', list(l[[II]], r[[II]]), envir=Envir)\n",
    "  }\n",
    "}\n",
    "\n",
    "# Used if LHS is larger than RHS\n",
    "extendToMatch <- function(source, destin) {\n",
    "  s <- length(source)\n",
    "  d <- length(destin)\n",
    "\n",
    "  # Assume that destin is a length when it is a single number and source is not\n",
    "  if(d==1 && s>1 && !is.null(as.numeric(destin)))\n",
    "    d <- destin\n",
    "\n",
    "  dif <- d - s\n",
    "  if (dif > 0) {\n",
    "    source <- rep(source, ceiling(d/s))[1:d]\n",
    "  }\n",
    "  return (source)\n",
    "}\n",
    "# Grouping the left hand side\n",
    "g = function(...) {\n",
    "  List = as.list(substitute(list(...)))[-1L]\n",
    "  class(List) = 'lbunch'\n",
    "  return(List)\n",
    "}"
   ]
  },
  {
   "cell_type": "code",
   "execution_count": 123,
   "id": "7660d900",
   "metadata": {},
   "outputs": [],
   "source": [
    "#import scRNAseq data\n",
    "\n",
    "setwd('~/GCA_analysis/datasets')\n",
    "gca<-readRDS('GCA_R.RDS')\n",
    "\n",
    "Idents(gca)<-'anno'\n",
    "\n",
    "tissue<-subset(gca, id = c('MyoFB_tissue', 'VSMC_tissue', 'Mac1_tissue','CD4_1_tissue',\n",
    "                           'Transitional_tissue','NK_tissue','Mac2_tissue',\n",
    "                            'Endothelium_2_tissue','Endothelium_1_tissue','CD8_tissue',\n",
    "                           'Lymph_endo_tissue','CD4_2_tissue',\n",
    "                            'DC_tissue','Epithelium_tissue','Plasma_tissue',\n",
    "                           'CD4_exhausted_tissue','Transitional_tissue',\n",
    "                            'Melanocyte_tissue','Muscle_tissue'))\n",
    "\n",
    "#remove small populations and Transitional - mixed VSMC/MyoFB signature cannot be distinguished\n",
    "\n",
    "tissue<-subset(tissue, id = c('Epithelium_tissue', 'Melanocyte_tissue','Muscle_tissue',\n",
    "                              'Plasma_tissue', 'Transitional_tissue', 'Lymph_endo_tissue'), invert = TRUE)\n",
    "\n",
    "tissue@meta.data$anno<-gsub('_tissue', '', tissue@meta.data$anno)"
   ]
  },
  {
   "cell_type": "code",
   "execution_count": 125,
   "id": "1287214c",
   "metadata": {},
   "outputs": [],
   "source": [
    "tissue<-NormalizeData(tissue)"
   ]
  },
  {
   "cell_type": "code",
   "execution_count": 126,
   "id": "fff1b9e9",
   "metadata": {},
   "outputs": [],
   "source": [
    "anno<-'anno'\n",
    "\n",
    "tissue@meta.data[[anno]][tissue@meta.data[[anno]] == 'CD4_1']<-'CD4'\n",
    "tissue@meta.data[[anno]][tissue@meta.data[[anno]] == 'CD4_2']<-'CD4'\n",
    "tissue@meta.data[[anno]][tissue@meta.data[[anno]] == 'CD4_exhausted']<-'CD4'\n",
    "tissue@meta.data[[anno]][tissue@meta.data[[anno]] == 'CD8']<-'CD8'\n",
    "tissue@meta.data[[anno]][tissue@meta.data[[anno]] == 'NK']<-'NK'\n",
    "\n",
    "tissue@meta.data[[anno]][tissue@meta.data[[anno]] == 'Endothelium_1']<-'Endothelium'\n",
    "tissue@meta.data[[anno]][tissue@meta.data[[anno]] == 'Endothelium_2']<-'Endothelium'\n",
    "tissue@meta.data[[anno]][tissue@meta.data[[anno]] == 'Lymph_endo']<-'Lymph_endo'\n",
    "\n",
    "tissue@meta.data[[anno]][tissue@meta.data[[anno]] == 'Mac1']<-'Mac'\n",
    "tissue@meta.data[[anno]][tissue@meta.data[[anno]] == 'Mac2']<-'Mac'\n",
    "tissue@meta.data[[anno]][tissue@meta.data[[anno]] == 'DC']<-'DC'\n",
    "\n",
    "tissue@meta.data[[anno]][tissue@meta.data[[anno]] == 'MyoFB']<-'MyoFB'\n",
    "tissue@meta.data[[anno]][tissue@meta.data[[anno]] == 'VSMC']<-'VSMC'"
   ]
  },
  {
   "cell_type": "code",
   "execution_count": 127,
   "id": "8a5dcb8c",
   "metadata": {},
   "outputs": [],
   "source": [
    "#create expressionSet from scRNAseq data\n",
    "\n",
    "raw<-GetAssayData(tissue, slot = 'counts')\n",
    "\n",
    "meta<-tissue@meta.data['anno']\n",
    "\n",
    "sc<-new(\"ExpressionSet\", exprs=as.matrix(raw), phenoData = AnnotatedDataFrame(data=tissue@meta.data))"
   ]
  },
  {
   "cell_type": "code",
   "execution_count": 128,
   "id": "86febea9",
   "metadata": {
    "scrolled": true
   },
   "outputs": [
    {
     "data": {
      "text/html": [
       "<style>\n",
       ".list-inline {list-style: none; margin:0; padding: 0}\n",
       ".list-inline>li {display: inline-block}\n",
       ".list-inline>li:not(:last-child)::after {content: \"\\00b7\"; padding: 0 .5ex}\n",
       "</style>\n",
       "<ol class=list-inline><li>'VSMC'</li><li>'MyoFB'</li><li>'Mac'</li><li>'CD4'</li><li>'NK'</li><li>'Endothelium'</li><li>'CD8'</li><li>'DC'</li></ol>\n"
      ],
      "text/latex": [
       "\\begin{enumerate*}\n",
       "\\item 'VSMC'\n",
       "\\item 'MyoFB'\n",
       "\\item 'Mac'\n",
       "\\item 'CD4'\n",
       "\\item 'NK'\n",
       "\\item 'Endothelium'\n",
       "\\item 'CD8'\n",
       "\\item 'DC'\n",
       "\\end{enumerate*}\n"
      ],
      "text/markdown": [
       "1. 'VSMC'\n",
       "2. 'MyoFB'\n",
       "3. 'Mac'\n",
       "4. 'CD4'\n",
       "5. 'NK'\n",
       "6. 'Endothelium'\n",
       "7. 'CD8'\n",
       "8. 'DC'\n",
       "\n",
       "\n"
      ],
      "text/plain": [
       "[1] \"VSMC\"        \"MyoFB\"       \"Mac\"         \"CD4\"         \"NK\"         \n",
       "[6] \"Endothelium\" \"CD8\"         \"DC\"         "
      ]
     },
     "metadata": {},
     "output_type": "display_data"
    }
   ],
   "source": [
    "unique(tissue@meta.data$anno)"
   ]
  },
  {
   "cell_type": "code",
   "execution_count": 132,
   "id": "fdc0d811",
   "metadata": {},
   "outputs": [],
   "source": [
    "#use this to group the clusters, calculate DEGs between then and use this to improve the algorithm's ability\n",
    "#to distinguish those groups\n",
    "\n",
    "clusters.type = list(C1 = c('VSMC', 'MyoFB', 'Endothelium'), \n",
    "                     C2 = c('CD4', 'CD8', 'NK'), \n",
    "                     C3 = c('DC', 'Mac'))\n",
    "\n",
    "cl.type = as.character(sc$anno)\n",
    "\n",
    "for(cl in 1:length(clusters.type)){\n",
    "  cl.type[cl.type %in% clusters.type[[cl]]] = names(clusters.type)[cl]\n",
    "}\n",
    "pData(sc)$clusterType = factor(cl.type, levels = c(names(clusters.type), 'CD-Trans', 'Novel1', 'Novel2'))\n"
   ]
  },
  {
   "cell_type": "code",
   "execution_count": 133,
   "id": "cb09123a",
   "metadata": {},
   "outputs": [],
   "source": [
    "subtypes_gca = unlist(clusters.type)"
   ]
  },
  {
   "cell_type": "code",
   "execution_count": 135,
   "id": "d3174e10",
   "metadata": {
    "scrolled": true
   },
   "outputs": [
    {
     "name": "stderr",
     "output_type": "stream",
     "text": [
      "Calculating cluster VSMC\n",
      "\n",
      "Calculating cluster MyoFB\n",
      "\n",
      "Calculating cluster Endothelium\n",
      "\n",
      "Calculating cluster CD4\n",
      "\n",
      "Calculating cluster NK\n",
      "\n",
      "Calculating cluster CD8\n",
      "\n",
      "Calculating cluster Mac\n",
      "\n",
      "Calculating cluster DC\n",
      "\n"
     ]
    }
   ],
   "source": [
    "#Use the Seurat object to calculate DEGs between the closely related groups\n",
    "\n",
    "Idents(tissue)<-'anno'\n",
    "\n",
    "temp<-subset(tissue, id = clusters.type$C1)\n",
    "C1_genes<-FindAllMarkers(temp, only.pos = TRUE, min.pct = 0.25, logfc.threshold = 0.25, min.diff.pct = 0.25)\n",
    "temp<-subset(tissue, id = clusters.type$C2)\n",
    "C2_genes<-FindAllMarkers(temp, only.pos = TRUE, min.pct = 0.25, logfc.threshold = 0.25, min.diff.pct = 0.25)\n",
    "temp<-subset(tissue, id = clusters.type$C3)\n",
    "C3_genes<-FindAllMarkers(temp, only.pos = TRUE, min.pct = 0.25, logfc.threshold = 0.25, min.diff.pct = 0.25)\n"
   ]
  },
  {
   "cell_type": "code",
   "execution_count": 139,
   "id": "3fdd6f97",
   "metadata": {},
   "outputs": [],
   "source": [
    "diff_genes<-list((C1_genes %>% group_by(cluster) %>% slice_max(order_by = avg_log2FC, n = 20))$gene,\n",
    "                 (C2_genes %>% group_by(cluster) %>% slice_max(order_by = avg_log2FC, n = 20))$gene,\n",
    "                 (C3_genes %>% group_by(cluster) %>% slice_max(order_by = avg_log2FC, n = 20))$gene)\n",
    "names(diff_genes)<-c('C1', 'C2', 'C3')"
   ]
  },
  {
   "cell_type": "code",
   "execution_count": 151,
   "id": "d32931ca",
   "metadata": {},
   "outputs": [],
   "source": [
    "#Nagal cohort\n",
    "\n",
    "setwd('~/GCA_analysis/bulk_data')\n",
    "bulk_data<-read.csv('GSE174694_matrix_temposeq.txt', row.names = 1, sep = '\\t')\n",
    "\n",
    "#bulk_data$NORMAL.VZV..20<-NULL\n",
    "bulk_data$GCA.VZV..1.1<-NULL\n",
    "bulk_data$GCA.VZV..9.1<-NULL\n",
    "bulk_data$NORMAL.VZV..1<-NULL\n",
    "bulk_data$NORMAL.VZV..17<-NULL\n",
    "bulk_data$NORMAL.VZV..7<-NULL\n",
    "bulk_data$NORMAL.VZV..3.1<-NULL\n",
    "\n",
    "#add metadata\n",
    "metadata<-data.frame(sample = colnames(bulk_data), diagnosis = sapply(strsplit(colnames(bulk_data), split = '[.]'), \"[\", 1))\n",
    "rownames(metadata)<-metadata$sample\n",
    "metadata$sample<-NULL\n",
    "\n",
    "\n",
    "#create expressionSet from bulk data\n",
    "\n",
    "bulk<-new(\"ExpressionSet\", exprs=as.matrix(bulk_data), phenoData = AnnotatedDataFrame(data=metadata))"
   ]
  },
  {
   "cell_type": "code",
   "execution_count": 152,
   "id": "4410daa8",
   "metadata": {
    "scrolled": false
   },
   "outputs": [
    {
     "name": "stderr",
     "output_type": "stream",
     "text": [
      "Start: cluster estimations...\n",
      "\n",
      "Creating Relative Abundance Matrix...\n",
      "\n",
      "Creating Variance Matrix...\n",
      "\n",
      "Creating Library Size Matrix...\n",
      "\n",
      "Start: cell type estimations...\n",
      "\n",
      "Creating Relative Abundance Matrix...\n",
      "\n",
      "Creating Variance Matrix...\n",
      "\n",
      "Creating Library Size Matrix...\n",
      "\n",
      "Used 15447 common genes...\n",
      "\n",
      "GCA.VZV..1 has common genes 6339 ...\n",
      "\n",
      "GCA.VZV..10 has common genes 9215 ...\n",
      "\n",
      "GCA.VZV..11 has common genes 7208 ...\n",
      "\n",
      "GCA.VZV..12 has common genes 10448 ...\n",
      "\n",
      "GCA.VZV..13 has common genes 12177 ...\n",
      "\n",
      "GCA.VZV..14 has common genes 9750 ...\n",
      "\n",
      "GCA.VZV..15 has common genes 5856 ...\n",
      "\n",
      "GCA.VZV..16 has common genes 12036 ...\n",
      "\n",
      "GCA.VZV..17 has common genes 10600 ...\n",
      "\n",
      "GCA.VZV..18 has common genes 11051 ...\n",
      "\n",
      "GCA.VZV..19 has common genes 11507 ...\n",
      "\n",
      "GCA.VZV..2 has common genes 7716 ...\n",
      "\n",
      "GCA.VZV..20 has common genes 11811 ...\n",
      "\n",
      "GCA.VZV..3 has common genes 7881 ...\n",
      "\n",
      "GCA.VZV..4 has common genes 11216 ...\n",
      "\n",
      "GCA.VZV..5 has common genes 9393 ...\n",
      "\n",
      "GCA.VZV..6 has common genes 9428 ...\n",
      "\n",
      "GCA.VZV..7 has common genes 8079 ...\n",
      "\n",
      "GCA.VZV..8 has common genes 11816 ...\n",
      "\n",
      "GCA.VZV..9 has common genes 8976 ...\n",
      "\n",
      "GCA.VZV..10.1 has common genes 11544 ...\n",
      "\n",
      "GCA.VZV..11.1 has common genes 10259 ...\n",
      "\n",
      "GCA.VZV..12.1 has common genes 9447 ...\n",
      "\n",
      "GCA.VZV..13.1 has common genes 9219 ...\n",
      "\n",
      "GCA.VZV..14.1 has common genes 10754 ...\n",
      "\n",
      "GCA.VZV..15.1 has common genes 11925 ...\n",
      "\n",
      "GCA.VZV..16.1 has common genes 10977 ...\n",
      "\n",
      "GCA.VZV..17.1 has common genes 9547 ...\n",
      "\n",
      "GCA.VZV..18.1 has common genes 12711 ...\n",
      "\n",
      "GCA.VZV..19.1 has common genes 6791 ...\n",
      "\n",
      "GCA.VZV..2.1 has common genes 5828 ...\n",
      "\n",
      "GCA.VZV..20.1 has common genes 9824 ...\n",
      "\n",
      "GCA.VZV..3.1 has common genes 1555 ...\n",
      "\n",
      "GCA.VZV..4.1 has common genes 11091 ...\n",
      "\n",
      "GCA.VZV..5.1 has common genes 6999 ...\n",
      "\n",
      "GCA.VZV..6.1 has common genes 6735 ...\n",
      "\n",
      "GCA.VZV..7.1 has common genes 10106 ...\n",
      "\n",
      "GCA.VZV..8.1 has common genes 8184 ...\n",
      "\n",
      "NORMAL.VZV..10 has common genes 3072 ...\n",
      "\n",
      "NORMAL.VZV..11 has common genes 2092 ...\n",
      "\n",
      "NORMAL.VZV..12 has common genes 1495 ...\n",
      "\n",
      "NORMAL.VZV..13 has common genes 2155 ...\n",
      "\n",
      "NORMAL.VZV..14 has common genes 890 ...\n",
      "\n",
      "NORMAL.VZV..15 has common genes 4512 ...\n",
      "\n",
      "NORMAL.VZV..16 has common genes 2320 ...\n",
      "\n",
      "NORMAL.VZV..18 has common genes 7758 ...\n",
      "\n",
      "NORMAL.VZV..19 has common genes 7962 ...\n",
      "\n",
      "NORMAL.VZV..2 has common genes 1581 ...\n",
      "\n",
      "NORMAL.VZV..20 has common genes 3025 ...\n",
      "\n",
      "NORMAL.VZV..3 has common genes 3493 ...\n",
      "\n",
      "NORMAL.VZV..4 has common genes 1833 ...\n",
      "\n",
      "NORMAL.VZV..5 has common genes 1332 ...\n",
      "\n",
      "NORMAL.VZV..6 has common genes 687 ...\n",
      "\n",
      "NORMAL.VZV..8 has common genes 614 ...\n",
      "\n",
      "NORMAL.VZV..9 has common genes 1469 ...\n",
      "\n",
      "NORMAL.VZV..1.1 has common genes 930 ...\n",
      "\n",
      "NORMAL.VZV..10.1 has common genes 5321 ...\n",
      "\n",
      "NORMAL.VZV..11.1 has common genes 2947 ...\n",
      "\n",
      "NORMAL.VZV..2.1 has common genes 6165 ...\n",
      "\n",
      "NORMAL.VZV..4.1 has common genes 9408 ...\n",
      "\n",
      "NORMAL.VZV..5.1 has common genes 5001 ...\n",
      "\n",
      "NORMAL.VZV..6.1 has common genes 5751 ...\n",
      "\n",
      "NORMAL.VZV..7.1 has common genes 6461 ...\n",
      "\n",
      "NORMAL.VZV..8.1 has common genes 7561 ...\n",
      "\n",
      "NORMAL.VZV..9.1 has common genes 4422 ...\n",
      "\n"
     ]
    }
   ],
   "source": [
    "estimated_bulks = music_prop.cluster(bulk.eset = bulk, \n",
    "                                    sc.eset = sc, \n",
    "                                    group.markers = diff_genes, \n",
    "                                    clusters = 'anno', \n",
    "                                    samples = 'patient_id', \n",
    "                                    groups = 'clusterType',\n",
    "                                    clusters.type = clusters.type)\n",
    "\n",
    "\n",
    "\n"
   ]
  },
  {
   "cell_type": "code",
   "execution_count": 153,
   "id": "a8a9a2c1",
   "metadata": {},
   "outputs": [],
   "source": [
    "g(Status, Status1, Status2) %=% c('diagnosis', 'NORMAL', 'GCA')\n",
    "\n",
    "#g(Status, Status1, Status2) %=% c('visual_loss', 'No_visual_loss', 'Visual_loss')"
   ]
  },
  {
   "cell_type": "code",
   "execution_count": 159,
   "id": "86507adc",
   "metadata": {},
   "outputs": [],
   "source": [
    "#Output data\n",
    "setwd('~/GCA_analysis/stats')\n",
    "deconv<-as.data.frame(estimated_bulks$Est.prop.weighted.cluster)\n",
    "write.csv(deconv, 'MaGiC_deconvolution_210929.csv')"
   ]
  },
  {
   "cell_type": "code",
   "execution_count": 161,
   "id": "96efbda3",
   "metadata": {},
   "outputs": [],
   "source": [
    "#format data\n",
    "deconv<-as.data.frame(estimated_bulks$Est.prop.weighted.cluster)\n",
    "deconv[Status]<-metadata[Status]\n",
    "\n",
    "deconv<-melt(deconv, id = Status)\n",
    "colnames(deconv)<-c(paste0(Status), 'celltype', 'props')\n",
    "deconv$props <- as.numeric(deconv$props)"
   ]
  },
  {
   "cell_type": "code",
   "execution_count": 176,
   "id": "4cba9f0f",
   "metadata": {},
   "outputs": [],
   "source": [
    "deconv[[Status]] <- factor(deconv[[Status]], levels = rev(c(Status1, Status2)))"
   ]
  },
  {
   "cell_type": "code",
   "execution_count": 177,
   "id": "06ebeb96",
   "metadata": {},
   "outputs": [
    {
     "data": {
      "text/html": [
       "<table class=\"dataframe\">\n",
       "<caption>A data.frame: 6 × 3</caption>\n",
       "<thead>\n",
       "\t<tr><th></th><th scope=col>diagnosis</th><th scope=col>celltype</th><th scope=col>props</th></tr>\n",
       "\t<tr><th></th><th scope=col>&lt;fct&gt;</th><th scope=col>&lt;fct&gt;</th><th scope=col>&lt;dbl&gt;</th></tr>\n",
       "</thead>\n",
       "<tbody>\n",
       "\t<tr><th scope=row>1</th><td>GCA</td><td>VSMC</td><td>0.4638565</td></tr>\n",
       "\t<tr><th scope=row>2</th><td>GCA</td><td>VSMC</td><td>0.2759080</td></tr>\n",
       "\t<tr><th scope=row>3</th><td>GCA</td><td>VSMC</td><td>0.2764571</td></tr>\n",
       "\t<tr><th scope=row>4</th><td>GCA</td><td>VSMC</td><td>0.2772095</td></tr>\n",
       "\t<tr><th scope=row>5</th><td>GCA</td><td>VSMC</td><td>0.2770363</td></tr>\n",
       "\t<tr><th scope=row>6</th><td>GCA</td><td>VSMC</td><td>0.2415847</td></tr>\n",
       "</tbody>\n",
       "</table>\n"
      ],
      "text/latex": [
       "A data.frame: 6 × 3\n",
       "\\begin{tabular}{r|lll}\n",
       "  & diagnosis & celltype & props\\\\\n",
       "  & <fct> & <fct> & <dbl>\\\\\n",
       "\\hline\n",
       "\t1 & GCA & VSMC & 0.4638565\\\\\n",
       "\t2 & GCA & VSMC & 0.2759080\\\\\n",
       "\t3 & GCA & VSMC & 0.2764571\\\\\n",
       "\t4 & GCA & VSMC & 0.2772095\\\\\n",
       "\t5 & GCA & VSMC & 0.2770363\\\\\n",
       "\t6 & GCA & VSMC & 0.2415847\\\\\n",
       "\\end{tabular}\n"
      ],
      "text/markdown": [
       "\n",
       "A data.frame: 6 × 3\n",
       "\n",
       "| <!--/--> | diagnosis &lt;fct&gt; | celltype &lt;fct&gt; | props &lt;dbl&gt; |\n",
       "|---|---|---|---|\n",
       "| 1 | GCA | VSMC | 0.4638565 |\n",
       "| 2 | GCA | VSMC | 0.2759080 |\n",
       "| 3 | GCA | VSMC | 0.2764571 |\n",
       "| 4 | GCA | VSMC | 0.2772095 |\n",
       "| 5 | GCA | VSMC | 0.2770363 |\n",
       "| 6 | GCA | VSMC | 0.2415847 |\n",
       "\n"
      ],
      "text/plain": [
       "  diagnosis celltype props    \n",
       "1 GCA       VSMC     0.4638565\n",
       "2 GCA       VSMC     0.2759080\n",
       "3 GCA       VSMC     0.2764571\n",
       "4 GCA       VSMC     0.2772095\n",
       "5 GCA       VSMC     0.2770363\n",
       "6 GCA       VSMC     0.2415847"
      ]
     },
     "metadata": {},
     "output_type": "display_data"
    }
   ],
   "source": [
    "head(deconv)"
   ]
  },
  {
   "cell_type": "code",
   "execution_count": 186,
   "id": "8c438a8f",
   "metadata": {},
   "outputs": [],
   "source": [
    "deconv$celltype<-factor(deconv$celltype, levels = c('CD4', 'CD8', 'NK', 'DC', 'Mac',\n",
    "                                                   'VSMC', 'MyoFB', 'Endothelium'))"
   ]
  },
  {
   "cell_type": "code",
   "execution_count": 199,
   "id": "4932fda2",
   "metadata": {},
   "outputs": [
    {
     "name": "stderr",
     "output_type": "stream",
     "text": [
      "Saving 6.67 x 6.67 in image\n",
      "\n"
     ]
    },
    {
     "data": {
      "image/png": "[encoded data removed]",
      "text/plain": [
       "plot without title"
      ]
     },
     "metadata": {
      "image/png": {
       "height": 420,
       "width": 420
      }
     },
     "output_type": "display_data"
    }
   ],
   "source": [
    "#labelled plot\n",
    "\n",
    "ggplot(data=deconv, aes_string(x=Status, y='props')) +\n",
    "geom_point(aes_string(fill = Status, color = Status), \n",
    "           size = 2, alpha = 0.7, \n",
    "           position = position_jitter(width=0.25, height=0)) +\n",
    "  facet_wrap(~ celltype, scales = 'free', ncol = 4) + coord_flip()+\n",
    "scale_color_manual(values = c('#f44323', '#656665')) + \n",
    "theme(aspect.ratio = 1/1) + \n",
    "theme(axis.text.x = element_text(angle = 90)) +\n",
    "theme(axis.title.x=element_blank(),\n",
    "#       axis.text.x=element_blank(),\n",
    "        axis.ticks.x=element_blank(),\n",
    "           axis.text.y=element_blank(),\n",
    "      axis.title.y=element_blank()) +\n",
    "theme(legend.position=\"none\") +\n",
    "theme(strip.background = element_blank(), strip.text.x = element_blank(),\n",
    "     panel.spacing.y = unit(3, \"lines\"), panel.spacing.x = unit(2, \"lines\"))+\n",
    "\n",
    "\n",
    "theme(panel.grid.major = element_blank(), panel.grid.minor = element_blank(),\n",
    "panel.background = element_blank(), axis.line = element_line(colour = \"black\"))\n",
    "\n",
    "\n",
    "setwd('~/GCA_analysis/figures')\n",
    "\n",
    "ggsave(\"bulk_deconv.png\",   dpi = 300)"
   ]
  },
  {
   "cell_type": "code",
   "execution_count": 157,
   "id": "e183c349",
   "metadata": {},
   "outputs": [
    {
     "name": "stderr",
     "output_type": "stream",
     "text": [
      "Warning message in wilcox.test.default(filter(temp, !!as.symbol(Status) == Status1)$props, :\n",
      "“cannot compute exact p-value with ties”\n",
      "Warning message in wilcox.test.default(filter(temp, !!as.symbol(Status) == Status1)$props, :\n",
      "“cannot compute exact p-value with ties”\n",
      "Warning message in wilcox.test.default(filter(temp, !!as.symbol(Status) == Status1)$props, :\n",
      "“cannot compute exact p-value with ties”\n",
      "Warning message in wilcox.test.default(filter(temp, !!as.symbol(Status) == Status1)$props, :\n",
      "“cannot compute exact p-value with ties”\n",
      "Warning message in wilcox.test.default(filter(temp, !!as.symbol(Status) == Status1)$props, :\n",
      "“cannot compute exact p-value with ties”\n",
      "Warning message in wilcox.test.default(filter(temp, !!as.symbol(Status) == Status1)$props, :\n",
      "“cannot compute exact p-value with ties”\n"
     ]
    }
   ],
   "source": [
    "celltypes<-unique(deconv$celltype)\n",
    "\n",
    "l<-list()\n",
    "for(i in unique(celltypes)){\n",
    "    temp<-deconv %>% filter(celltype == i)\n",
    "    temp_result<-wilcox.test(filter(temp, !!as.symbol(Status) == Status1)$props, filter(temp, !!as.symbol(Status) == Status2)$props, alternative = \"two.sided\") \n",
    "    l[i]<-temp_result$p.value    \n",
    "}"
   ]
  },
  {
   "cell_type": "code",
   "execution_count": 158,
   "id": "008fc51d",
   "metadata": {},
   "outputs": [
    {
     "data": {
      "text/html": [
       "<dl>\n",
       "\t<dt>$VSMC</dt>\n",
       "\t\t<dd>1.33844365254026e-10</dd>\n",
       "\t<dt>$MyoFB</dt>\n",
       "\t\t<dd>0.000244578650125975</dd>\n",
       "\t<dt>$Endothelium</dt>\n",
       "\t\t<dd>0.00032218142634558</dd>\n",
       "\t<dt>$CD4</dt>\n",
       "\t\t<dd>1.85740364847161e-06</dd>\n",
       "\t<dt>$CD8</dt>\n",
       "\t\t<dd>5.5584269645982e-09</dd>\n",
       "\t<dt>$NK</dt>\n",
       "\t\t<dd>7.55250884433345e-10</dd>\n",
       "\t<dt>$DC</dt>\n",
       "\t\t<dd>7.28198520219767e-12</dd>\n",
       "\t<dt>$Mac</dt>\n",
       "\t\t<dd>2.14195098541302e-12</dd>\n",
       "</dl>\n"
      ],
      "text/latex": [
       "\\begin{description}\n",
       "\\item[\\$VSMC] 1.33844365254026e-10\n",
       "\\item[\\$MyoFB] 0.000244578650125975\n",
       "\\item[\\$Endothelium] 0.00032218142634558\n",
       "\\item[\\$CD4] 1.85740364847161e-06\n",
       "\\item[\\$CD8] 5.5584269645982e-09\n",
       "\\item[\\$NK] 7.55250884433345e-10\n",
       "\\item[\\$DC] 7.28198520219767e-12\n",
       "\\item[\\$Mac] 2.14195098541302e-12\n",
       "\\end{description}\n"
      ],
      "text/markdown": [
       "$VSMC\n",
       ":   1.33844365254026e-10\n",
       "$MyoFB\n",
       ":   0.000244578650125975\n",
       "$Endothelium\n",
       ":   0.00032218142634558\n",
       "$CD4\n",
       ":   1.85740364847161e-06\n",
       "$CD8\n",
       ":   5.5584269645982e-09\n",
       "$NK\n",
       ":   7.55250884433345e-10\n",
       "$DC\n",
       ":   7.28198520219767e-12\n",
       "$Mac\n",
       ":   2.14195098541302e-12\n",
       "\n",
       "\n"
      ],
      "text/plain": [
       "$VSMC\n",
       "[1] 1.338444e-10\n",
       "\n",
       "$MyoFB\n",
       "[1] 0.0002445787\n",
       "\n",
       "$Endothelium\n",
       "[1] 0.0003221814\n",
       "\n",
       "$CD4\n",
       "[1] 1.857404e-06\n",
       "\n",
       "$CD8\n",
       "[1] 5.558427e-09\n",
       "\n",
       "$NK\n",
       "[1] 7.552509e-10\n",
       "\n",
       "$DC\n",
       "[1] 7.281985e-12\n",
       "\n",
       "$Mac\n",
       "[1] 2.141951e-12\n"
      ]
     },
     "metadata": {},
     "output_type": "display_data"
    }
   ],
   "source": [
    "l"
   ]
  },
  {
   "cell_type": "code",
   "execution_count": 200,
   "id": "ed2ab808",
   "metadata": {},
   "outputs": [
    {
     "data": {
      "text/html": [
       "<style>\n",
       ".dl-inline {width: auto; margin:0; padding: 0}\n",
       ".dl-inline>dt, .dl-inline>dd {float: none; width: auto; display: inline-block}\n",
       ".dl-inline>dt::after {content: \":\\0020\"; padding-right: .5ex}\n",
       ".dl-inline>dt:not(:first-of-type) {padding-left: .5ex}\n",
       "</style><dl class=dl-inline><dt>VSMC</dt><dd>3.5691830734407e-10</dd><dt>MyoFB</dt><dd>0.000279518457286829</dd><dt>Endothelium</dt><dd>0.00032218142634558</dd><dt>CD4</dt><dd>2.47653819796215e-06</dd><dt>CD8</dt><dd>8.89348314335712e-09</dd><dt>NK</dt><dd>1.51050176886669e-09</dd><dt>DC</dt><dd>2.91279408087907e-11</dd><dt>Mac</dt><dd>1.71356078833042e-11</dd></dl>\n"
      ],
      "text/latex": [
       "\\begin{description*}\n",
       "\\item[VSMC] 3.5691830734407e-10\n",
       "\\item[MyoFB] 0.000279518457286829\n",
       "\\item[Endothelium] 0.00032218142634558\n",
       "\\item[CD4] 2.47653819796215e-06\n",
       "\\item[CD8] 8.89348314335712e-09\n",
       "\\item[NK] 1.51050176886669e-09\n",
       "\\item[DC] 2.91279408087907e-11\n",
       "\\item[Mac] 1.71356078833042e-11\n",
       "\\end{description*}\n"
      ],
      "text/markdown": [
       "VSMC\n",
       ":   3.5691830734407e-10MyoFB\n",
       ":   0.000279518457286829Endothelium\n",
       ":   0.00032218142634558CD4\n",
       ":   2.47653819796215e-06CD8\n",
       ":   8.89348314335712e-09NK\n",
       ":   1.51050176886669e-09DC\n",
       ":   2.91279408087907e-11Mac\n",
       ":   1.71356078833042e-11\n",
       "\n"
      ],
      "text/plain": [
       "        VSMC        MyoFB  Endothelium          CD4          CD8           NK \n",
       "3.569183e-10 2.795185e-04 3.221814e-04 2.476538e-06 8.893483e-09 1.510502e-09 \n",
       "          DC          Mac \n",
       "2.912794e-11 1.713561e-11 "
      ]
     },
     "metadata": {},
     "output_type": "display_data"
    }
   ],
   "source": [
    "p.adjust(l, 'BH')"
   ]
  },
  {
   "cell_type": "code",
   "execution_count": null,
   "id": "dc9439cd",
   "metadata": {},
   "outputs": [],
   "source": []
  }
 ],
 "metadata": {
  "kernelspec": {
   "display_name": "GCA_R",
   "language": "R",
   "name": "gca_r"
  },
  "language_info": {
   "codemirror_mode": "r",
   "file_extension": ".r",
   "mimetype": "text/x-r-source",
   "name": "R",
   "pygments_lexer": "r",
   "version": "4.1.0"
  }
 },
 "nbformat": 4,
 "nbformat_minor": 5
}
